{
 "cells": [
  {
   "cell_type": "code",
   "execution_count": null,
   "id": "9f9905eb-d6ce-4e21-8fd2-ca8304958239",
   "metadata": {},
   "outputs": [],
   "source": [
    "# pip install --upgrade \"jax[cpu]\""
   ]
  },
  {
   "cell_type": "code",
   "execution_count": null,
   "id": "51a407be-5369-41e9-88d2-19bd34e5b83e",
   "metadata": {},
   "outputs": [],
   "source": [
    "# pip install numba"
   ]
  },
  {
   "cell_type": "code",
   "execution_count": 7,
   "id": "31b55422-f665-4e02-ba03-3bd8e772127c",
   "metadata": {},
   "outputs": [
    {
     "data": {
      "text/plain": [
       "'Node 1: [0.885 0.115]'"
      ]
     },
     "metadata": {},
     "output_type": "display_data"
    },
    {
     "data": {
      "text/plain": [
       "'Node 2: [0.351 0.649]'"
      ]
     },
     "metadata": {},
     "output_type": "display_data"
    },
    {
     "data": {
      "text/plain": [
       "'Node 3: [0. 1.]'"
      ]
     },
     "metadata": {},
     "output_type": "display_data"
    },
    {
     "data": {
      "text/plain": [
       "'Node 4: [0.75 0.25]'"
      ]
     },
     "metadata": {},
     "output_type": "display_data"
    }
   ],
   "source": [
    "from bbn import Node, Graph\n",
    "\n",
    "N1 = Node(\n",
    "    name='Node 1',\n",
    "    states_list=[0, 1],\n",
    "    parents_list=[],\n",
    "    prob_list=[.9, .1]\n",
    ")\n",
    "\n",
    "N2 = Node(\n",
    "    name='Node 2',\n",
    "    states_list=[0, 1],\n",
    "    parents_list=[],\n",
    "    prob_list=[.3, .7]\n",
    ")\n",
    "\n",
    "N3 = Node(\n",
    "    name='Node 3',\n",
    "    states_list=[0, 1],\n",
    "    parents_list=[N1, N2],\n",
    "    prob_list=[.4, .5, .1, .5, .6, .5, .9, .5],\n",
    "    evidence_index=1\n",
    ")\n",
    "\n",
    "N4 = Node(\n",
    "    name='Node 4',\n",
    "    states_list=[0, 1],\n",
    "    parents_list=[N3],\n",
    "    prob_list=[.3, .75, .7, .25]\n",
    ")\n",
    "\n",
    "\n",
    "g = Graph(nodes_list=[N1, N2, N3, N4])\n",
    "g.run()\n",
    "\n",
    "for node in g.nodes_list:\n",
    "    display(node.name + ': ' + str(node.marginal))"
   ]
  },
  {
   "cell_type": "code",
   "execution_count": null,
   "id": "79ed95bd-ce93-4d58-98e4-5f520e0de833",
   "metadata": {},
   "outputs": [],
   "source": []
  }
 ],
 "metadata": {
  "kernelspec": {
   "display_name": "Python 3 (ipykernel)",
   "language": "python",
   "name": "python3"
  },
  "language_info": {
   "codemirror_mode": {
    "name": "ipython",
    "version": 3
   },
   "file_extension": ".py",
   "mimetype": "text/x-python",
   "name": "python",
   "nbconvert_exporter": "python",
   "pygments_lexer": "ipython3",
   "version": "3.11.4"
  }
 },
 "nbformat": 4,
 "nbformat_minor": 5
}
